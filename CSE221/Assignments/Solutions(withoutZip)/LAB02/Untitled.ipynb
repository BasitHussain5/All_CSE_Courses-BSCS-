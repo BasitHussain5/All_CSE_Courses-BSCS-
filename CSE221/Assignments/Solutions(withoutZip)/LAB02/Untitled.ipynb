{
 "cells": [
  {
   "cell_type": "code",
   "execution_count": null,
   "id": "44ef19ea",
   "metadata": {},
   "outputs": [],
   "source": [
    "def MergeFunction(array, p, q, r):\n",
    "    n1 = q - p + 1\n",
    "    n2 = r - q\n",
    "    \n",
    "    left = [0] * n1\n",
    "    right = [0] * n2\n",
    "    \n",
    "    for i in range(0, n1):\n",
    "        left[i] = array[p+i]\n",
    "    for j in range(0, n2):\n",
    "        right[j] = array[q+1+j]\n",
    "        \n",
    "    i = 0\n",
    "    j = 0\n",
    "    k = p\n",
    "    while i<n1 and j<n2:\n",
    "        if left[i] <= right[j]:\n",
    "            array[k] = left[i]\n",
    "            i += 1\n",
    "        else:\n",
    "            array[k] = right[j]\n",
    "            j += 1\n",
    "        k += 1\n",
    "\n",
    "    while i < n1:\n",
    "        array[k] = left[i]\n",
    "        i += 1\n",
    "        k += 1\n",
    "        \n",
    "    while j < n2:\n",
    "        array[k] = right[j]\n",
    "        j += 1\n",
    "        k += 1\n",
    "\n",
    "def MergeSortFunction(array, p, r):\n",
    "    if p < r: \n",
    "        q = p + (r-p)//2            \n",
    "        MergeSortFunction(array, p, q)                        \n",
    "        MergeSortFunction(array, q+1, r)                         \n",
    "        MergeFunction(array, p, q, r) \n",
    "\n",
    "\n",
    "\n",
    "        \n",
    "array = [5, -1, 10, 2, 8]\n",
    "n = len(array)\n",
    "MergeSortFunction(array, 0, n-1)\n",
    "print(array)"
   ]
  },
  {
   "cell_type": "code",
   "execution_count": null,
   "id": "0f01e311",
   "metadata": {},
   "outputs": [],
   "source": [
    "# low  –> Starting index,  high  –> Ending index */\n",
    "\n",
    "def partition_fumction(array, l, h):\n",
    "    pivot = array[h]\n",
    "    i = l - 1\n",
    "    for j in range(l, h):\n",
    "        if array[j] <= pivot:\n",
    "            i += 1\n",
    "            array[i], array[j] = array[j], array[i]\n",
    "    arr[i + 1], arr[high] = arr[high], arr[i + 1]\n",
    "    return (i + 1)\n",
    "\n",
    "def QuickSort(array, l, h):\n",
    "    if l < h:\n",
    "        parti = partition_fumction(array, l, h)\n",
    "        QuickSort(array, l, parti-1)\n",
    "        QuickSort(array, parti+1, h)\n",
    "\n",
    "arr = [5, -1, 10, 2, 8]\n",
    "n = len(arr)\n",
    "quickSort(arr, 0, n-1)\n",
    "print(arr)"
   ]
  },
  {
   "cell_type": "code",
   "execution_count": 44,
   "id": "60634724",
   "metadata": {},
   "outputs": [
    {
     "name": "stdout",
     "output_type": "stream",
     "text": [
      "[1, 3, -4, 5, 9, 10, 10]\n",
      "-4\n",
      "3\n"
     ]
    }
   ],
   "source": [
    "def partition_fumction(array, l, k):\n",
    "    pivot = array[k-1]\n",
    "    i = l - 1\n",
    "    for j in range(l, k-1):\n",
    "        if array[j] <= pivot:\n",
    "            i += 1\n",
    "            array[i], array[j] = array[j], array[i]\n",
    "    array[i + 1], array[k-1] = array[k-1], array[i + 1]\n",
    "    print(array)\n",
    "    print(array[j])\n",
    "    return (i + 1)\n",
    "\n",
    "a = partition_fumction([1, 3, -4, 5, 9, 10, 10], 0,4)\n",
    "print(a)"
   ]
  },
  {
   "cell_type": "code",
   "execution_count": null,
   "id": "c11c43da",
   "metadata": {},
   "outputs": [],
   "source": []
  },
  {
   "cell_type": "code",
   "execution_count": null,
   "id": "83be4315",
   "metadata": {},
   "outputs": [],
   "source": []
  }
 ],
 "metadata": {
  "kernelspec": {
   "display_name": "Python 3 (ipykernel)",
   "language": "python",
   "name": "python3"
  },
  "language_info": {
   "codemirror_mode": {
    "name": "ipython",
    "version": 3
   },
   "file_extension": ".py",
   "mimetype": "text/x-python",
   "name": "python",
   "nbconvert_exporter": "python",
   "pygments_lexer": "ipython3",
   "version": "3.9.7"
  }
 },
 "nbformat": 4,
 "nbformat_minor": 5
}
